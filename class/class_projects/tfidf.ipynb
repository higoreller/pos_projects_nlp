{
 "cells": [
  {
   "cell_type": "code",
   "execution_count": 8,
   "metadata": {},
   "outputs": [],
   "source": [
    "import shap\n",
    "from sklearn.model_selection import train_test_split\n",
    "from sklearn.feature_extraction.text import TfidfVectorizer\n",
    "from collections import Counter\n",
    "from sklearn.linear_model import LogisticRegression\n",
    "from sklearn.metrics import classification_report"
   ]
  },
  {
   "cell_type": "code",
   "execution_count": 1,
   "metadata": {},
   "outputs": [
    {
     "ename": "NameError",
     "evalue": "name 'shap' is not defined",
     "output_type": "error",
     "traceback": [
      "\u001b[0;31m---------------------------------------------------------------------------\u001b[0m",
      "\u001b[0;31mNameError\u001b[0m                                 Traceback (most recent call last)",
      "\u001b[1;32m/home/higoreller/pos_projects/src/class/class_examples/tfidf.ipynb Cell 2'\u001b[0m in \u001b[0;36m<cell line: 3>\u001b[0;34m()\u001b[0m\n\u001b[1;32m      <a href='vscode-notebook-cell://wsl%2Bubuntu/home/higoreller/pos_projects/src/class/class_examples/tfidf.ipynb#ch0000001vscode-remote?line=0'>1</a>\u001b[0m \u001b[39m# Carrega os dados\u001b[39;00m\n\u001b[0;32m----> <a href='vscode-notebook-cell://wsl%2Bubuntu/home/higoreller/pos_projects/src/class/class_examples/tfidf.ipynb#ch0000001vscode-remote?line=2'>3</a>\u001b[0m corpus, y \u001b[39m=\u001b[39m shap\u001b[39m.\u001b[39mdatasets\u001b[39m.\u001b[39mimdb()\n\u001b[1;32m      <a href='vscode-notebook-cell://wsl%2Bubuntu/home/higoreller/pos_projects/src/class/class_examples/tfidf.ipynb#ch0000001vscode-remote?line=4'>5</a>\u001b[0m \u001b[39m# Gambiarra para ter a mesma quantidade de dados e de rótulos igualmente distribuídos\u001b[39;00m\n\u001b[1;32m      <a href='vscode-notebook-cell://wsl%2Bubuntu/home/higoreller/pos_projects/src/class/class_examples/tfidf.ipynb#ch0000001vscode-remote?line=6'>7</a>\u001b[0m corpus \u001b[39m=\u001b[39m corpus[:\u001b[39m10000\u001b[39m]\n",
      "\u001b[0;31mNameError\u001b[0m: name 'shap' is not defined"
     ]
    }
   ],
   "source": [
    "# Carrega os dados\n",
    "\n",
    "corpus, y = shap.datasets.imdb()\n",
    "\n",
    "# Gambiarra para ter a mesma quantidade de dados e de rótulos igualmente distribuídos\n",
    "\n",
    "corpus = corpus[:10000]\n",
    "y = y[7500:17500]\n",
    "\n",
    "# Separa os dados em treino e teste\n",
    "\n",
    "corpus_train, corpus_test, y_train, y_test = train_test_split(\n",
    "    corpus, y, test_size=0.25, shuffle=True, stratify=y, random_state=42)\n",
    "\n",
    "# Conta as ocorrências de \"true\" e \"false\"\n",
    "\n",
    "print(Counter(y_train))\n",
    "print(y_train)\n",
    "\n",
    "corpus_train = [text.lower() for text in corpus_train]\n",
    "\n",
    "tfidf = TfidfVectorizer(lowercase=True,\n",
    "                        stop_words=\"english\",\n",
    "                        min_df=10,\n",
    "                        max_features=5000)\n",
    "# realiza a vetorização dos dados de treino retornando uma matriz esparsa\n",
    "X_train = tfidf.fit_transform(corpus_train)\n",
    "# realiza a vetorização e retorna uma matriz esparsa\n",
    "X_test = tfidf.transform(corpus_test)\n",
    "\n",
    "model = LogisticRegression()  # carrega o classificador\n",
    "\n",
    "model.fit(X_train, y_train)  # treina o classificador\n",
    "\n",
    "print(model.score(X_test, y_test))  # por que não usar o classification_report?\n",
    "\n",
    "shap.initjs()\n",
    "\n",
    "explainer = shap.LinearExplainer(model, X_train)\n",
    "\n",
    "shap_values = explainer(X_test)\n",
    "\n",
    "shap.summary_plot(shap_values, X_test.toarray(),\n",
    "                  feature_names=tfidf.get_feature_names())\n",
    "\n",
    "y_pred = model.predict(X_test)\n",
    "\n",
    "print(classification_report(y_test, y_pred))\n"
   ]
  }
 ],
 "metadata": {
  "interpreter": {
   "hash": "3d36f4f80df8b91bfa3bad405a92794e0b41a4aa281a21dfb0d602e835708313"
  },
  "kernelspec": {
   "display_name": "Python 3.8.10 ('venv': venv)",
   "language": "python",
   "name": "python3"
  },
  "language_info": {
   "codemirror_mode": {
    "name": "ipython",
    "version": 3
   },
   "file_extension": ".py",
   "mimetype": "text/x-python",
   "name": "python",
   "nbconvert_exporter": "python",
   "pygments_lexer": "ipython3",
   "version": "3.8.10"
  },
  "orig_nbformat": 4
 },
 "nbformat": 4,
 "nbformat_minor": 2
}
