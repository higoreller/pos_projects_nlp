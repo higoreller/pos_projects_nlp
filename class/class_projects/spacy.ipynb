{
 "cells": [
  {
   "cell_type": "code",
   "execution_count": 1,
   "metadata": {},
   "outputs": [],
   "source": [
    "import pandas as pd"
   ]
  },
  {
   "cell_type": "code",
   "execution_count": 2,
   "metadata": {},
   "outputs": [],
   "source": [
    "data = pd.read_json('/home/higoreller/pos_projects/datasets/feed_news.json')"
   ]
  },
  {
   "cell_type": "code",
   "execution_count": 9,
   "metadata": {},
   "outputs": [
    {
     "data": {
      "text/html": [
       "<div>\n",
       "<style scoped>\n",
       "    .dataframe tbody tr th:only-of-type {\n",
       "        vertical-align: middle;\n",
       "    }\n",
       "\n",
       "    .dataframe tbody tr th {\n",
       "        vertical-align: top;\n",
       "    }\n",
       "\n",
       "    .dataframe thead th {\n",
       "        text-align: right;\n",
       "    }\n",
       "</style>\n",
       "<table border=\"1\" class=\"dataframe\">\n",
       "  <thead>\n",
       "    <tr style=\"text-align: right;\">\n",
       "      <th></th>\n",
       "      <th>category</th>\n",
       "      <th>body</th>\n",
       "      <th>subtitle</th>\n",
       "      <th>title</th>\n",
       "      <th>url</th>\n",
       "      <th>spider</th>\n",
       "      <th>date_edit</th>\n",
       "      <th>source</th>\n",
       "      <th>date_retrieved</th>\n",
       "      <th>keywords</th>\n",
       "      <th>date_published</th>\n",
       "      <th>author</th>\n",
       "    </tr>\n",
       "  </thead>\n",
       "  <tbody>\n",
       "    <tr>\n",
       "      <th>796</th>\n",
       "      <td>G1 - Mundo</td>\n",
       "      <td>Chegar à Casa Branca não exige apenas carisma,...</td>\n",
       "      <td>Saiba quem doa mais fundos aos presidenciáveis...</td>\n",
       "      <td>Saiba quem doa mais fundos aos presidenciáveis...</td>\n",
       "      <td>http://g1.globo.com/mundo/noticia/2012/08/saib...</td>\n",
       "      <td>globo_g1</td>\n",
       "      <td>2012-08-24T21:13:00</td>\n",
       "      <td>Da EFE</td>\n",
       "      <td>2013-07-30T01:08:07.833890</td>\n",
       "      <td>notícias, notícia, Mundo, Últimas notícias</td>\n",
       "      <td>2012-08-24T20:30:00</td>\n",
       "      <td>NaN</td>\n",
       "    </tr>\n",
       "    <tr>\n",
       "      <th>1708</th>\n",
       "      <td>Economia</td>\n",
       "      <td>Impulsionadas pela arrecadação recorde de impo...</td>\n",
       "      <td>Superávit das contas do governo é recorde para...</td>\n",
       "      <td>Superávit das contas do governo é recorde para...</td>\n",
       "      <td>http://g1.globo.com/economia/noticia/2013/02/c...</td>\n",
       "      <td>globo_g1</td>\n",
       "      <td>2013-02-26T12:46:00</td>\n",
       "      <td>Do G1, em Brasília</td>\n",
       "      <td>2013-07-30T01:10:24.162094</td>\n",
       "      <td>notícias, notícia, Economia, Últimas notícias</td>\n",
       "      <td>2013-02-26T12:09:00</td>\n",
       "      <td>Alexandro Martello</td>\n",
       "    </tr>\n",
       "  </tbody>\n",
       "</table>\n",
       "</div>"
      ],
      "text/plain": [
       "        category                                               body  \\\n",
       "796   G1 - Mundo  Chegar à Casa Branca não exige apenas carisma,...   \n",
       "1708    Economia  Impulsionadas pela arrecadação recorde de impo...   \n",
       "\n",
       "                                               subtitle  \\\n",
       "796   Saiba quem doa mais fundos aos presidenciáveis...   \n",
       "1708  Superávit das contas do governo é recorde para...   \n",
       "\n",
       "                                                  title  \\\n",
       "796   Saiba quem doa mais fundos aos presidenciáveis...   \n",
       "1708  Superávit das contas do governo é recorde para...   \n",
       "\n",
       "                                                    url    spider  \\\n",
       "796   http://g1.globo.com/mundo/noticia/2012/08/saib...  globo_g1   \n",
       "1708  http://g1.globo.com/economia/noticia/2013/02/c...  globo_g1   \n",
       "\n",
       "                date_edit              source              date_retrieved  \\\n",
       "796   2012-08-24T21:13:00              Da EFE  2013-07-30T01:08:07.833890   \n",
       "1708  2013-02-26T12:46:00  Do G1, em Brasília  2013-07-30T01:10:24.162094   \n",
       "\n",
       "                                           keywords       date_published  \\\n",
       "796      notícias, notícia, Mundo, Últimas notícias  2012-08-24T20:30:00   \n",
       "1708  notícias, notícia, Economia, Últimas notícias  2013-02-26T12:09:00   \n",
       "\n",
       "                  author  \n",
       "796                  NaN  \n",
       "1708  Alexandro Martello  "
      ]
     },
     "execution_count": 9,
     "metadata": {},
     "output_type": "execute_result"
    }
   ],
   "source": [
    "data.sample(2)"
   ]
  },
  {
   "cell_type": "code",
   "execution_count": null,
   "metadata": {},
   "outputs": [],
   "source": [
    "# Instalando/atualizando o spacy\n",
    "# !pip install -U spacy > /dev/null\n",
    "\n",
    "# Baixando o modelo adequado\n",
    "!python -m spacy download pt_core_news_lg"
   ]
  },
  {
   "cell_type": "code",
   "execution_count": 6,
   "metadata": {},
   "outputs": [],
   "source": [
    "import spacy\n",
    "\n",
    "nlp = spacy.load(\"pt_core_news_lg\")"
   ]
  },
  {
   "cell_type": "code",
   "execution_count": 8,
   "metadata": {},
   "outputs": [],
   "source": [
    "from tqdm.auto import tqdm \n",
    "tqdm.pandas()"
   ]
  },
  {
   "cell_type": "code",
   "execution_count": 10,
   "metadata": {},
   "outputs": [
    {
     "name": "stderr",
     "output_type": "stream",
     "text": [
      "100%|██████████| 3882/3882 [02:33<00:00, 25.26it/s]\n"
     ]
    }
   ],
   "source": [
    "data['docs'] = data.body.progress_map(nlp)"
   ]
  },
  {
   "cell_type": "code",
   "execution_count": null,
   "metadata": {},
   "outputs": [],
   "source": [
    "data.to_pickle(\"documents.pickle\")"
   ]
  },
  {
   "cell_type": "code",
   "execution_count": 11,
   "metadata": {},
   "outputs": [],
   "source": [
    "companies = []\n",
    "for doc in data.docs:\n",
    "    orgs = []\n",
    "    for ent in doc.ents:\n",
    "        if ent.label_ != \"ORG\":\n",
    "            continue\n",
    "        orgs.append(ent.text)\n",
    "    orgs = list(set(orgs))\n",
    "    if len(orgs) > 1:\n",
    "        companies.append(orgs)"
   ]
  },
  {
   "cell_type": "code",
   "execution_count": null,
   "metadata": {},
   "outputs": [],
   "source": [
    "companies[0:2]"
   ]
  },
  {
   "cell_type": "code",
   "execution_count": 16,
   "metadata": {},
   "outputs": [
    {
     "data": {
      "text/html": [
       "<div>\n",
       "<style scoped>\n",
       "    .dataframe tbody tr th:only-of-type {\n",
       "        vertical-align: middle;\n",
       "    }\n",
       "\n",
       "    .dataframe tbody tr th {\n",
       "        vertical-align: top;\n",
       "    }\n",
       "\n",
       "    .dataframe thead th {\n",
       "        text-align: right;\n",
       "    }\n",
       "</style>\n",
       "<table border=\"1\" class=\"dataframe\">\n",
       "  <thead>\n",
       "    <tr style=\"text-align: right;\">\n",
       "      <th></th>\n",
       "      <th>source</th>\n",
       "      <th>target</th>\n",
       "    </tr>\n",
       "  </thead>\n",
       "  <tbody>\n",
       "    <tr>\n",
       "      <th>0</th>\n",
       "      <td>Sena-MA</td>\n",
       "      <td>RR</td>\n",
       "    </tr>\n",
       "    <tr>\n",
       "      <th>1</th>\n",
       "      <td>Sena-MA</td>\n",
       "      <td>Programa das Nações Unidas para o Desenvolvimento</td>\n",
       "    </tr>\n",
       "    <tr>\n",
       "      <th>2</th>\n",
       "      <td>Sena-MA</td>\n",
       "      <td>Pnud</td>\n",
       "    </tr>\n",
       "    <tr>\n",
       "      <th>3</th>\n",
       "      <td>RR</td>\n",
       "      <td>Programa das Nações Unidas para o Desenvolvimento</td>\n",
       "    </tr>\n",
       "    <tr>\n",
       "      <th>4</th>\n",
       "      <td>RR</td>\n",
       "      <td>Pnud</td>\n",
       "    </tr>\n",
       "    <tr>\n",
       "      <th>...</th>\n",
       "      <td>...</td>\n",
       "      <td>...</td>\n",
       "    </tr>\n",
       "    <tr>\n",
       "      <th>78873</th>\n",
       "      <td>Google</td>\n",
       "      <td>Apple</td>\n",
       "    </tr>\n",
       "    <tr>\n",
       "      <th>78874</th>\n",
       "      <td>Google</td>\n",
       "      <td>Samsung</td>\n",
       "    </tr>\n",
       "    <tr>\n",
       "      <th>78875</th>\n",
       "      <td>IDC</td>\n",
       "      <td>Apple</td>\n",
       "    </tr>\n",
       "    <tr>\n",
       "      <th>78876</th>\n",
       "      <td>IDC</td>\n",
       "      <td>Samsung</td>\n",
       "    </tr>\n",
       "    <tr>\n",
       "      <th>78877</th>\n",
       "      <td>Apple</td>\n",
       "      <td>Samsung</td>\n",
       "    </tr>\n",
       "  </tbody>\n",
       "</table>\n",
       "<p>78878 rows × 2 columns</p>\n",
       "</div>"
      ],
      "text/plain": [
       "        source                                             target\n",
       "0      Sena-MA                                                 RR\n",
       "1      Sena-MA  Programa das Nações Unidas para o Desenvolvimento\n",
       "2      Sena-MA                                               Pnud\n",
       "3           RR  Programa das Nações Unidas para o Desenvolvimento\n",
       "4           RR                                               Pnud\n",
       "...        ...                                                ...\n",
       "78873   Google                                              Apple\n",
       "78874   Google                                            Samsung\n",
       "78875      IDC                                              Apple\n",
       "78876      IDC                                            Samsung\n",
       "78877    Apple                                            Samsung\n",
       "\n",
       "[78878 rows x 2 columns]"
      ]
     },
     "execution_count": 16,
     "metadata": {},
     "output_type": "execute_result"
    }
   ],
   "source": [
    "import itertools\n",
    "edges = []\n",
    "\n",
    "for nodes in companies:\n",
    "    edges.extend([[n1, n2] for n1, n2 in itertools.combinations(nodes, 2)])\n",
    "\n",
    "edges = pd.DataFrame(edges, columns=['source', 'target'])\n",
    "edges"
   ]
  },
  {
   "cell_type": "code",
   "execution_count": 14,
   "metadata": {},
   "outputs": [],
   "source": [
    "edges_weighted = edges.groupby(edges.columns.tolist(), as_index=False).size().sort_values(by=\"size\", ascending=False)"
   ]
  },
  {
   "cell_type": "code",
   "execution_count": 18,
   "metadata": {},
   "outputs": [
    {
     "data": {
      "text/html": [
       "<div>\n",
       "<style scoped>\n",
       "    .dataframe tbody tr th:only-of-type {\n",
       "        vertical-align: middle;\n",
       "    }\n",
       "\n",
       "    .dataframe tbody tr th {\n",
       "        vertical-align: top;\n",
       "    }\n",
       "\n",
       "    .dataframe thead th {\n",
       "        text-align: right;\n",
       "    }\n",
       "</style>\n",
       "<table border=\"1\" class=\"dataframe\">\n",
       "  <thead>\n",
       "    <tr style=\"text-align: right;\">\n",
       "      <th></th>\n",
       "      <th>source</th>\n",
       "      <th>target</th>\n",
       "      <th>weight</th>\n",
       "    </tr>\n",
       "  </thead>\n",
       "  <tbody>\n",
       "    <tr>\n",
       "      <th>3125</th>\n",
       "      <td>Anatel</td>\n",
       "      <td>Agência Nacional de Telecomunicações</td>\n",
       "      <td>104</td>\n",
       "    </tr>\n",
       "    <tr>\n",
       "      <th>6063</th>\n",
       "      <td>Banco Central</td>\n",
       "      <td>BC</td>\n",
       "      <td>97</td>\n",
       "    </tr>\n",
       "    <tr>\n",
       "      <th>3716</th>\n",
       "      <td>Apple</td>\n",
       "      <td>Samsung</td>\n",
       "      <td>95</td>\n",
       "    </tr>\n",
       "    <tr>\n",
       "      <th>24916</th>\n",
       "      <td>Google</td>\n",
       "      <td>Apple</td>\n",
       "      <td>86</td>\n",
       "    </tr>\n",
       "    <tr>\n",
       "      <th>3237</th>\n",
       "      <td>Anatel</td>\n",
       "      <td>Oi</td>\n",
       "      <td>79</td>\n",
       "    </tr>\n",
       "    <tr>\n",
       "      <th>...</th>\n",
       "      <td>...</td>\n",
       "      <td>...</td>\n",
       "      <td>...</td>\n",
       "    </tr>\n",
       "    <tr>\n",
       "      <th>18972</th>\n",
       "      <td>FAA</td>\n",
       "      <td>Boeing</td>\n",
       "      <td>1</td>\n",
       "    </tr>\n",
       "    <tr>\n",
       "      <th>18973</th>\n",
       "      <td>FAA</td>\n",
       "      <td>G1 Economia</td>\n",
       "      <td>1</td>\n",
       "    </tr>\n",
       "    <tr>\n",
       "      <th>18974</th>\n",
       "      <td>FAB</td>\n",
       "      <td>Air Costa</td>\n",
       "      <td>1</td>\n",
       "    </tr>\n",
       "    <tr>\n",
       "      <th>18975</th>\n",
       "      <td>FAB</td>\n",
       "      <td>Air Lituanica</td>\n",
       "      <td>1</td>\n",
       "    </tr>\n",
       "    <tr>\n",
       "      <th>52095</th>\n",
       "      <td>Única</td>\n",
       "      <td>União da Indústria da Cana-de-Açúcar</td>\n",
       "      <td>1</td>\n",
       "    </tr>\n",
       "  </tbody>\n",
       "</table>\n",
       "<p>52096 rows × 3 columns</p>\n",
       "</div>"
      ],
      "text/plain": [
       "              source                                target  weight\n",
       "3125          Anatel  Agência Nacional de Telecomunicações     104\n",
       "6063   Banco Central                                    BC      97\n",
       "3716           Apple                               Samsung      95\n",
       "24916         Google                                 Apple      86\n",
       "3237          Anatel                                    Oi      79\n",
       "...              ...                                   ...     ...\n",
       "18972            FAA                                Boeing       1\n",
       "18973            FAA                           G1 Economia       1\n",
       "18974            FAB                             Air Costa       1\n",
       "18975            FAB                         Air Lituanica       1\n",
       "52095          Única  União da Indústria da Cana-de-Açúcar       1\n",
       "\n",
       "[52096 rows x 3 columns]"
      ]
     },
     "execution_count": 18,
     "metadata": {},
     "output_type": "execute_result"
    }
   ],
   "source": [
    "edges_weighted.columns = ['source', \n",
    "                          'target',\n",
    "                          'weight']\n",
    "edges_weighted"
   ]
  },
  {
   "cell_type": "code",
   "execution_count": 17,
   "metadata": {},
   "outputs": [],
   "source": [
    "import networkx as nx\n",
    "\n",
    "graph = nx.from_pandas_edgelist(edges_weighted)\n",
    "\n",
    "graph\n",
    "\n",
    "nx.write_graphml(graph, 'companies.graphml')"
   ]
  }
 ],
 "metadata": {
  "interpreter": {
   "hash": "1ceb72ab40b575b45c4814ba1628d43a0bb7e2099d88da0668b141d787e76c17"
  },
  "kernelspec": {
   "display_name": "Python 3.8.10 ('venv': venv)",
   "language": "python",
   "name": "python3"
  },
  "language_info": {
   "codemirror_mode": {
    "name": "ipython",
    "version": 3
   },
   "file_extension": ".py",
   "mimetype": "text/x-python",
   "name": "python",
   "nbconvert_exporter": "python",
   "pygments_lexer": "ipython3",
   "version": "3.8.10"
  },
  "orig_nbformat": 4
 },
 "nbformat": 4,
 "nbformat_minor": 2
}
