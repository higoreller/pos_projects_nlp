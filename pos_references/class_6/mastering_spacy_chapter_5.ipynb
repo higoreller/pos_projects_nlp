{
 "cells": [
  {
   "cell_type": "code",
   "execution_count": null,
   "metadata": {},
   "outputs": [],
   "source": [
    "import spacy\n",
    "\n",
    "!python -m spacy download en_core_web_md\n",
    "\n",
    "nlp = spacy.load(\"en_core_web_md\")\n",
    "\n",
    "doc = nlp(\"I ate a banana.\")\n",
    "\n",
    "doc[3].vector"
   ]
  },
  {
   "cell_type": "code",
   "execution_count": 4,
   "metadata": {},
   "outputs": [
    {
     "data": {
      "text/plain": [
       "(300,)"
      ]
     },
     "execution_count": 4,
     "metadata": {},
     "output_type": "execute_result"
    }
   ],
   "source": [
    "# O spacy retorna um \"ndarray\", portanto os métodos de \"numpy\" podem ser executados\n",
    "\n",
    "type(doc[3].vector)\n",
    "\n",
    "doc[3].vector.shape"
   ]
  },
  {
   "cell_type": "code",
   "execution_count": null,
   "metadata": {},
   "outputs": [],
   "source": [
    "doc = nlp(\"I like a banana,\")\n",
    "\n",
    "doc.vector\n",
    "\n",
    "doc[1:3].vector\n",
    "\n",
    "doc = nlp(\"You went there afskfsd.\")\n",
    "\n",
    "# OOV => Out of Vocabulary\n",
    "for token in doc:\n",
    "          token.is_oov, token.has_vector"
   ]
  },
  {
   "cell_type": "code",
   "execution_count": null,
   "metadata": {},
   "outputs": [],
   "source": [
    "# Análise de similaridade\n",
    "\n",
    "# Comparação entre partes dos Objetos\n",
    "doc1 = nlp(\"I visited England.\")\n",
    "\n",
    "doc2 = nlp(\"I went to London.\")\n",
    "\n",
    "doc1[1:3].similarity(doc2[1:4])\n",
    "\n",
    "# 0.6539691\n",
    "\n",
    "# Comparação entre tokens dos Objetos\n",
    "doc1[2].similarity(doc2[3])\n",
    "\n",
    "# 0.73891276\n",
    "\n",
    "# Comparação entre os Objetos\n",
    "doc1.similarity(doc2)\n",
    "\n",
    "0.7995623615797786"
   ]
  },
  {
   "cell_type": "code",
   "execution_count": null,
   "metadata": {},
   "outputs": [],
   "source": [
    "import matplotlib.pyplot as plt\n",
    "from sklearn.decomposition import PCA\n",
    "import numpy as np\n",
    "import spacy\n",
    "\n",
    "nlp = spacy.load(\"en_core_web_md\")\n",
    "vocab = nlp(\"cat dog tiger elephant bird monkey lion cheetah burger pizza food cheese wine salad noodles macaroni fruit vegetable\")\n",
    "words = [word.text for word in vocab]\n",
    "vecs = np.vstack([word.vector for word in vocab if word.has_vector])\n",
    "print(vecs)\n",
    "pca = PCA(n_components=2)\n",
    "vecs_transformed = pca.fit_transform(vecs)\n",
    "plt.figure(figsize=(20,15))\n",
    "plt.scatter(vecs_transformed[:,0], vecs_transformed[:,1])\n",
    "\n",
    "for word, coord in zip(words, vecs_transformed):\n",
    "    x,y = coord\n",
    "    plt.text(x,y,word, size=15)\n",
    "\n",
    "plt.show()"
   ]
  },
  {
   "cell_type": "code",
   "execution_count": null,
   "metadata": {},
   "outputs": [],
   "source": [
    "!wget https://dl.fbaipublicfiles.com/fasttext/vectors-english/wiki-news-300d-1M-subword.vec.zip"
   ]
  },
  {
   "cell_type": "code",
   "execution_count": 18,
   "metadata": {},
   "outputs": [],
   "source": [
    "import zipfile\n",
    "\n",
    "with zipfile.ZipFile('/home/higoreller/pos_projects/datasets/wiki-news-300d-1M-subword.vec.zip', 'r') as zip_ref:\n",
    "    zip_ref.extractall('/home/higoreller/pos_projects/datasets')"
   ]
  },
  {
   "cell_type": "code",
   "execution_count": 43,
   "metadata": {},
   "outputs": [
    {
     "name": "stdout",
     "output_type": "stream",
     "text": [
      "\u001b[38;5;4mℹ Creating blank nlp object for language 'en'\u001b[0m\n",
      "[2022-05-19 18:48:57,463] [INFO] Reading vectors from /home/higoreller/pos_projects/datasets/wiki-news-300d-1M-subword.vec\n",
      "999994it [00:38, 26167.93it/s]\n",
      "[2022-05-19 18:49:35,679] [INFO] Loaded vectors from /home/higoreller/pos_projects/datasets/wiki-news-300d-1M-subword.vec\n",
      "\u001b[38;5;2m✔ Successfully converted 999994 vectors\u001b[0m\n"
     ]
    }
   ],
   "source": [
    "!python -m spacy init vectors en -n en_subwords_wiki_lg /home/higoreller/pos_projects/datasets/wiki-news-300d-1M-subword.vec en_subwords_wiki_lg"
   ]
  }
 ],
 "metadata": {
  "interpreter": {
   "hash": "1ceb72ab40b575b45c4814ba1628d43a0bb7e2099d88da0668b141d787e76c17"
  },
  "kernelspec": {
   "display_name": "Python 3.8.10 ('venv': venv)",
   "language": "python",
   "name": "python3"
  },
  "language_info": {
   "codemirror_mode": {
    "name": "ipython",
    "version": 3
   },
   "file_extension": ".py",
   "mimetype": "text/x-python",
   "name": "python",
   "nbconvert_exporter": "python",
   "pygments_lexer": "ipython3",
   "version": "3.8.10"
  },
  "orig_nbformat": 4
 },
 "nbformat": 4,
 "nbformat_minor": 2
}
